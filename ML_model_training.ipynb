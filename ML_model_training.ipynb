{
 "cells": [
  {
   "cell_type": "code",
   "execution_count": 1,
   "id": "9a392b31",
   "metadata": {},
   "outputs": [],
   "source": [
    "import pandas as pd\n",
    "import numpy as np\n",
    "import seaborn as sns\n",
    "import matplotlib.pyplot as plt\n",
    "from pandas.api.types import CategoricalDtype\n",
    "from sklearn.tree import DecisionTreeClassifier\n",
    "from sklearn.model_selection import train_test_split\n",
    "from sklearn.metrics import accuracy_score, precision_score, recall_score, confusion_matrix"
   ]
  },
  {
   "cell_type": "markdown",
   "id": "9bcbc588",
   "metadata": {},
   "source": [
    "### Data preparation"
   ]
  },
  {
   "cell_type": "code",
   "execution_count": 2,
   "id": "81d36f9d",
   "metadata": {},
   "outputs": [],
   "source": [
    "data = pd.read_csv(\"data/train_users_processed.csv\")\n",
    "test_data = pd.read_csv(\"data/test_users.csv\")"
   ]
  },
  {
   "cell_type": "code",
   "execution_count": 3,
   "id": "77ffaddc",
   "metadata": {},
   "outputs": [],
   "source": [
    "def clear_test_data(main_data):\n",
    "    # set appropriate data types\n",
    "    int_time_to_str = lambda x: x[:4] + '-' + x[4:6] + '-' + x[6:8] + ' ' + x[8:10] + ':' + x[10:12] + ':' + x[12:]\n",
    "\n",
    "    main_data[\"date_account_created\"] = main_data[\"date_account_created\"].astype(\"datetime64[ns]\")\n",
    "    main_data[\"timestamp_first_active\"] = main_data[\"timestamp_first_active\"].astype(str) \\\n",
    "                                                                             .apply(int_time_to_str) \\\n",
    "                                                                             .astype(\"datetime64[ns]\")\n",
    "    main_data[\"date_first_booking\"] = main_data[\"date_first_booking\"].astype(\"datetime64[ns]\")\n",
    "    main_data[\"signup_flow\"] = main_data[\"signup_flow\"].astype(str)\n",
    "    \n",
    "    # Dealing with NaN values and clearing dataset\n",
    "    \n",
    "    main_data = main_data[(main_data[\"age\"] < 100) | (main_data[\"age\"].isnull())]\n",
    "    main_data = main_data.dropna(subset=[\"first_affiliate_tracked\"])\n",
    "    main_data = main_data.drop(\"date_first_booking\", axis=1)\n",
    "    \n",
    "    ages = main_data.groupby([\"gender\"]).mean().reset_index()\n",
    "    ages = ages.rename(columns={\"age\": \"mean_age\"})\n",
    "    ages[\"mean_age\"] = ages[\"mean_age\"].round()\n",
    "    main_data = main_data.merge(ages, on=[\"gender\"])\n",
    "    main_data[\"age\"] = main_data[\"age\"].fillna(main_data[\"mean_age\"])\n",
    "    main_data = main_data.drop(\"mean_age\", axis=1)\n",
    "    \n",
    "    return main_data\n",
    "\n",
    "def encode_data(data):\n",
    "    df = data.drop([\"id\", \n",
    "                \"date_account_created\", \n",
    "                \"affiliate_channel\", \n",
    "                \"timestamp_first_active\", \n",
    "                \"first_browser\",\n",
    "                \"language\"], axis=1)\n",
    "\n",
    "    df = pd.get_dummies(df, columns=[\"gender\", \n",
    "                                     \"signup_method\", \n",
    "                                     \"signup_flow\", \n",
    "                                     \"affiliate_provider\", \n",
    "                                     \"first_affiliate_tracked\", \n",
    "                                     \"signup_app\", \n",
    "                                     \"first_device_type\"])\n",
    "    \n",
    "    return df"
   ]
  },
  {
   "cell_type": "code",
   "execution_count": 4,
   "id": "db501361",
   "metadata": {},
   "outputs": [],
   "source": [
    "df = encode_data(data)\n",
    "\n",
    "test_data = clear_test_data(test_data)\n",
    "test_df = encode_data(test_data)\n",
    "\n",
    "cat_type = CategoricalDtype(df[\"country_destination\"].unique(), ordered=True)\n",
    "df[\"country_destination\"] = df[\"country_destination\"].astype(cat_type).cat.codes\n",
    "\n",
    "X = df.drop([\"country_destination\"], axis=1)\n",
    "Y = df[\"country_destination\"]\n",
    "\n",
    "cols_not_in_test = set(X).difference(set(test_df.columns))\n",
    "cols_not_in_X = set(test_df).difference(set(X.columns))\n",
    "\n",
    "for col in cols_not_in_test:\n",
    "    test_df[col] = 0\n",
    "    \n",
    "for col in cols_not_in_X:\n",
    "    X[col] = 0\n",
    "    \n",
    "test_df.columns = X.columns"
   ]
  },
  {
   "cell_type": "markdown",
   "id": "7b650063",
   "metadata": {},
   "source": [
    "### Train model"
   ]
  },
  {
   "cell_type": "code",
   "execution_count": 5,
   "id": "745804fd",
   "metadata": {},
   "outputs": [
    {
     "data": {
      "text/plain": [
       "DecisionTreeClassifier(max_depth=8)"
      ]
     },
     "execution_count": 5,
     "metadata": {},
     "output_type": "execute_result"
    }
   ],
   "source": [
    "X_train, X_test, y_train, y_test = train_test_split(X, Y, test_size=0.2)\n",
    "\n",
    "tree = DecisionTreeClassifier(max_depth=8)\n",
    "\n",
    "tree.fit(X_train, y_train)"
   ]
  },
  {
   "cell_type": "code",
   "execution_count": 6,
   "id": "e65a4ed1",
   "metadata": {},
   "outputs": [],
   "source": [
    "y_pred = tree.predict(X_test)"
   ]
  },
  {
   "cell_type": "code",
   "execution_count": 7,
   "id": "c936b20b",
   "metadata": {},
   "outputs": [
    {
     "name": "stderr",
     "output_type": "stream",
     "text": [
      "/home/uladzimir/.local/lib/python3.8/site-packages/sklearn/metrics/_classification.py:1318: UndefinedMetricWarning: Precision is ill-defined and being set to 0.0 in labels with no predicted samples. Use `zero_division` parameter to control this behavior.\n",
      "  _warn_prf(average, modifier, msg_start, len(result))\n"
     ]
    }
   ],
   "source": [
    "accuracy = accuracy_score(y_test, y_pred)\n",
    "precision = precision_score(y_test, y_pred, average=\"macro\")\n",
    "recall = recall_score(y_test, y_pred, average=\"macro\")"
   ]
  },
  {
   "cell_type": "code",
   "execution_count": 8,
   "id": "e6ff7e0c",
   "metadata": {},
   "outputs": [
    {
     "name": "stdout",
     "output_type": "stream",
     "text": [
      "Accuracy: 0.6464779460171165\n",
      "Precision: 0.2385965934196305\n",
      "Recall: 0.16027613672981836\n"
     ]
    }
   ],
   "source": [
    "print(f\"Accuracy: {accuracy}\\nPrecision: {precision}\\nRecall: {recall}\")"
   ]
  },
  {
   "cell_type": "code",
   "execution_count": 9,
   "id": "72101e3b",
   "metadata": {},
   "outputs": [
    {
     "data": {
      "image/png": "[encoded data removed]",
      "text/plain": [
       "<Figure size 1152x1008 with 2 Axes>"
      ]
     },
     "metadata": {
      "needs_background": "light"
     },
     "output_type": "display_data"
    }
   ],
   "source": [
    "cm = confusion_matrix(y_test, y_pred)\n",
    "\n",
    "class_names = ['NDF', 'US', 'other', 'CA', 'FR', 'ES', 'GB', 'IT', 'PT', 'NL', 'DE', 'AU']\n",
    "\n",
    "# Plot confusion matrix in a beautiful manner\n",
    "fig = plt.figure(figsize=(16, 14))\n",
    "ax= plt.subplot()\n",
    "sns.heatmap(cm, annot=True, ax = ax, fmt = 'g'); #annot=True to annotate cells\n",
    "# labels, title and ticks\n",
    "ax.set_xlabel('Predicted', fontsize=20)\n",
    "ax.xaxis.set_label_position('bottom')\n",
    "plt.xticks(rotation=90)\n",
    "ax.xaxis.set_ticklabels(class_names, fontsize = 10)\n",
    "ax.xaxis.tick_bottom()\n",
    "\n",
    "ax.set_ylabel('True', fontsize=20)\n",
    "ax.yaxis.set_ticklabels(class_names, fontsize = 10)\n",
    "plt.yticks(rotation=0)\n",
    "\n",
    "plt.title('Refined Confusion Matrix', fontsize=20)\n",
    "\n",
    "plt.show()"
   ]
  },
  {
   "cell_type": "markdown",
   "id": "81f272f8",
   "metadata": {},
   "source": [
    "### Run model on test data"
   ]
  },
  {
   "cell_type": "code",
   "execution_count": 23,
   "id": "0cc79426",
   "metadata": {},
   "outputs": [],
   "source": [
    "y_test_pred = tree.predict(test_df)\n",
    "y_test_pred = pd.Series(y_test_pred)\n",
    "categories = cat_type.categories\n",
    "\n",
    "y_test_pred = y_test_pred.apply(lambda x: categories[x])"
   ]
  },
  {
   "cell_type": "code",
   "execution_count": 24,
   "id": "9f1d7f44",
   "metadata": {},
   "outputs": [],
   "source": [
    "submission = pd.DataFrame({\"id\": test_data[\"id\"], \"country\": y_test_pred})"
   ]
  },
  {
   "cell_type": "code",
   "execution_count": 29,
   "id": "243b35f4",
   "metadata": {},
   "outputs": [],
   "source": [
    "submission.to_csv(\"submissions/submission_0.csv\")"
   ]
  },
  {
   "cell_type": "code",
   "execution_count": null,
   "id": "ceef5aaa",
   "metadata": {},
   "outputs": [],
   "source": []
  }
 ],
 "metadata": {
  "kernelspec": {
   "display_name": "Python 3 (ipykernel)",
   "language": "python",
   "name": "python3"
  },
  "language_info": {
   "codemirror_mode": {
    "name": "ipython",
    "version": 3
   },
   "file_extension": ".py",
   "mimetype": "text/x-python",
   "name": "python",
   "nbconvert_exporter": "python",
   "pygments_lexer": "ipython3",
   "version": "3.8.10"
  }
 },
 "nbformat": 4,
 "nbformat_minor": 5
}
